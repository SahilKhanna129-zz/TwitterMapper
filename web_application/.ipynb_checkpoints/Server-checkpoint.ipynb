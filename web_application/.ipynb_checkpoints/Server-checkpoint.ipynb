{
 "cells": [
  {
   "cell_type": "code",
   "execution_count": 5,
   "metadata": {},
   "outputs": [],
   "source": [
    "from flask import Flask, render_template, request\n",
    "from elasticsearch import Elasticsearch\n",
    "import certifi\n",
    "import json\n",
    "import requests\n",
    "import sys"
   ]
  },
  {
   "cell_type": "code",
   "execution_count": 7,
   "metadata": {},
   "outputs": [
    {
     "name": "stderr",
     "output_type": "stream",
     "text": [
      " * Restarting with stat\n"
     ]
    },
    {
     "ename": "SystemExit",
     "evalue": "1",
     "output_type": "error",
     "traceback": [
      "An exception has occurred, use %tb to see the full traceback.\n",
      "\u001b[1;31mSystemExit\u001b[0m\u001b[1;31m:\u001b[0m 1\n"
     ]
    },
    {
     "name": "stderr",
     "output_type": "stream",
     "text": [
      "C:\\Users\\skhan\\Anaconda3\\envs\\twitterMapper\\lib\\site-packages\\IPython\\core\\interactiveshell.py:2870: UserWarning: To exit: use 'exit', 'quit', or Ctrl-D.\n",
      "  warn(\"To exit: use 'exit', 'quit', or Ctrl-D.\", stacklevel=1)\n"
     ]
    }
   ],
   "source": [
    "application = Flask(__name__)\n",
    "\n",
    "#Keywords\n",
    "keyword_dict = {'keyword 1':'movies','keyword 2':'technology','keyword 3':'sports','keyword 4':'life','keyword 5':'news','keyword 6':'travel','keyword 7':'health','keyword 8':'awesome','keyword 9':'energy','keyword 10':'music','Nothing here':'no','':'no'}\n",
    "geo_dict = {'d1':10,'d2':50,'d3':100,'d4':200,'d5':500,'d6':1000,'d7':5000,'Nothing here':0,'': 0}\n",
    "\n",
    "elastic_search_host = \"search-project1-tweet-mapper-rmxitieus6xn6vbwevmyqucbh4.us-east-1.es.amazonaws.com\"\n",
    "\n",
    "#Define ElasticSearch credentials\n",
    "es = Elasticsearch(hosts = [{\"host\" : elastic_search_host,\n",
    "                              \"port\" : 443}],\n",
    "                              use_ssl='True')\n",
    "\n",
    "#Handle POST Requests\n",
    "@application.route ('/',methods = ['POST','GET'])\n",
    "def update_map2():\n",
    "    \n",
    "    r = \"\"\n",
    "    center_lat = 0.0\n",
    "    center_long = 0.00\n",
    "    dist = \"Nothing here\"\n",
    "    tweets = []\n",
    "    key = \"Nothing here\"\n",
    "    if request.method == 'POST':\n",
    "        \n",
    "        try:\n",
    "            \n",
    "            js =request.data.decode(\"utf-8\")\n",
    "            js = json.loads(js)\n",
    "            if js[\"Type\"]==\"SubscriptionConfirmation\":\n",
    "            \n",
    "                print(\"Subscription Request\")\n",
    "                r = str(requests.get(js['SubscribeURL']))\n",
    "            \n",
    "            elif js[\"Message\"]:\n",
    "                print(\"Message Recieved\")\n",
    "                message = json.loads(js[\"Message\"])\n",
    "                es.index(index='final-tweet-index',doc_type='twitter',body = message)\n",
    "                \n",
    "            print(js,file=sys.stderr)\n",
    "            \n",
    "        except:\n",
    "            \n",
    "            if request.form['keyword'] != None:\n",
    "                key = request.form['keyword']\n",
    "                tweets = gettweets(keyword_dict[key])\n",
    "                \n",
    "            else:\n",
    "                print(\"exception\")\n",
    "            \n",
    "            pass\n",
    "\n",
    "    #Update HTML webpage\n",
    "    return render_template(\"index.html\",lat = center_lat, long = center_long, key = keyword_dict[key], dist = geo_dict[dist], tweets = tweets)\n",
    "    \n",
    "#Get tweets from elasticsearch\n",
    "def gettweets(keyword):\n",
    "    \n",
    "    tweets = []\n",
    "    \n",
    "    if keyword == \"no\":\n",
    "        keyword = \"\"\n",
    "\n",
    "    #body_content = {\"query\":{\"match\":{\"_all\":keyword}}}\n",
    "    body_content={\"query\": {\"match\": { \"text\": { \"query\": keyword, \"operator\": \"or\" } } } }\n",
    "    #Get relevant tweet stream\n",
    "    stream = es.search(index = \"final-tweet-index\", doc_type = \"twitter\", body = body_content, size = 10000)\n",
    "        \n",
    "    tweets = stream[\"hits\"][\"hits\"]\n",
    "    print(tweets)\n",
    "    return tweets   \n",
    "\n",
    "if __name__ == \"__main__\":\n",
    "    \n",
    "    application.run(host='0.0.0.0', debug = True)"
   ]
  },
  {
   "cell_type": "code",
   "execution_count": null,
   "metadata": {
    "collapsed": true
   },
   "outputs": [],
   "source": []
  }
 ],
 "metadata": {
  "kernelspec": {
   "display_name": "Python 3",
   "language": "python",
   "name": "python3"
  },
  "language_info": {
   "codemirror_mode": {
    "name": "ipython",
    "version": 3
   },
   "file_extension": ".py",
   "mimetype": "text/x-python",
   "name": "python",
   "nbconvert_exporter": "python",
   "pygments_lexer": "ipython3",
   "version": "3.6.2"
  }
 },
 "nbformat": 4,
 "nbformat_minor": 2
}
